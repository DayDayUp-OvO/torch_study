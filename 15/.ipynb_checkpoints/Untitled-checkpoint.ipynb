{
 "cells": [
  {
   "cell_type": "code",
   "execution_count": 43,
   "id": "de902599",
   "metadata": {},
   "outputs": [],
   "source": [
    "%matplotlib inline\n",
    "import pandas as pd\n",
    "import numpy as np\n",
    "import torch\n",
    "from torch import nn\n"
   ]
  },
  {
   "cell_type": "code",
   "execution_count": 44,
   "id": "ed1ff857",
   "metadata": {},
   "outputs": [],
   "source": [
    "train_data = pd.read_csv('../california/train.csv')\n",
    "test_data = pd.read_csv('../california/test.csv')"
   ]
  },
  {
   "cell_type": "code",
   "execution_count": 45,
   "id": "e030cd5e",
   "metadata": {},
   "outputs": [
    {
     "data": {
      "text/plain": [
       "((47439, 41), (31626, 40))"
      ]
     },
     "execution_count": 45,
     "metadata": {},
     "output_type": "execute_result"
    }
   ],
   "source": [
    "train_data.shape, test_data.shape"
   ]
  },
  {
   "cell_type": "code",
   "execution_count": 46,
   "id": "8e3e7458",
   "metadata": {},
   "outputs": [
    {
     "data": {
      "text/plain": [
       "Index(['Id', 'Address', 'Sold Price', 'Summary', 'Type', 'Year built',\n",
       "       'Heating', 'Cooling', 'Parking', 'Lot', 'Bedrooms', 'Bathrooms',\n",
       "       'Full bathrooms', 'Total interior livable area', 'Total spaces',\n",
       "       'Garage spaces', 'Region', 'Elementary School',\n",
       "       'Elementary School Score', 'Elementary School Distance',\n",
       "       'Middle School', 'Middle School Score', 'Middle School Distance',\n",
       "       'High School', 'High School Score', 'High School Distance', 'Flooring',\n",
       "       'Heating features', 'Cooling features', 'Appliances included',\n",
       "       'Laundry features', 'Parking features', 'Tax assessed value',\n",
       "       'Annual tax amount', 'Listed On', 'Listed Price', 'Last Sold On',\n",
       "       'Last Sold Price', 'City', 'Zip', 'State'],\n",
       "      dtype='object')"
      ]
     },
     "execution_count": 46,
     "metadata": {},
     "output_type": "execute_result"
    }
   ],
   "source": [
    "train_data.columns"
   ]
  },
  {
   "cell_type": "code",
   "execution_count": 47,
   "id": "d24245b7",
   "metadata": {},
   "outputs": [
    {
     "data": {
      "text/plain": [
       "Index(['Id', 'Address', 'Summary', 'Type', 'Year built', 'Heating', 'Cooling',\n",
       "       'Parking', 'Lot', 'Bedrooms', 'Bathrooms', 'Full bathrooms',\n",
       "       'Total interior livable area', 'Total spaces', 'Garage spaces',\n",
       "       'Region', 'Elementary School', 'Elementary School Score',\n",
       "       'Elementary School Distance', 'Middle School', 'Middle School Score',\n",
       "       'Middle School Distance', 'High School', 'High School Score',\n",
       "       'High School Distance', 'Flooring', 'Heating features',\n",
       "       'Cooling features', 'Appliances included', 'Laundry features',\n",
       "       'Parking features', 'Tax assessed value', 'Annual tax amount',\n",
       "       'Listed On', 'Listed Price', 'Last Sold On', 'Last Sold Price', 'City',\n",
       "       'Zip', 'State'],\n",
       "      dtype='object')"
      ]
     },
     "execution_count": 47,
     "metadata": {},
     "output_type": "execute_result"
    }
   ],
   "source": [
    "test_data.columns"
   ]
  },
  {
   "cell_type": "code",
   "execution_count": 48,
   "id": "56548b54",
   "metadata": {},
   "outputs": [],
   "source": [
    "train_data_sold_price = train_data.pop('Sold Price')"
   ]
  },
  {
   "cell_type": "code",
   "execution_count": 51,
   "id": "8ffeae14",
   "metadata": {},
   "outputs": [
    {
     "data": {
      "text/plain": [
       "((47439, 40), (31626, 40), (47439,))"
      ]
     },
     "execution_count": 51,
     "metadata": {},
     "output_type": "execute_result"
    }
   ],
   "source": [
    "train_data.shape, test_data.shape, train_data_sold_price.shape"
   ]
  },
  {
   "cell_type": "code",
   "execution_count": 52,
   "id": "6099e4c8",
   "metadata": {},
   "outputs": [],
   "source": [
    "all_features = pd.concat((train_data.iloc[:, 1:], test_data.iloc[:, 1:]))"
   ]
  },
  {
   "cell_type": "code",
   "execution_count": 68,
   "id": "54720175",
   "metadata": {},
   "outputs": [],
   "source": [
    "# 若无法获得测试数据，则可根据训练数据计算均值和标准差\n",
    "numeric_features = all_features.dtypes[all_features.dtypes != 'object'].index\n",
    "all_features[numeric_features] = all_features[numeric_features].apply(\n",
    "    lambda x: (x - x.mean()) / (x.std()))"
   ]
  },
  {
   "cell_type": "code",
   "execution_count": 70,
   "id": "fe015490",
   "metadata": {},
   "outputs": [],
   "source": [
    "# 在标准化数据之后，所有均值消失，因此我们可以将缺失值设置为0\n",
    "all_features[numeric_features] = all_features[numeric_features].fillna(0)"
   ]
  },
  {
   "cell_type": "code",
   "execution_count": 76,
   "id": "2af51815",
   "metadata": {},
   "outputs": [
    {
     "data": {
      "text/plain": [
       "(79065, 216170)"
      ]
     },
     "execution_count": 76,
     "metadata": {},
     "output_type": "execute_result"
    }
   ],
   "source": [
    "all_features.shape"
   ]
  },
  {
   "cell_type": "code",
   "execution_count": null,
   "id": "1c2933b4",
   "metadata": {},
   "outputs": [],
   "source": [
    "# todo 特征处理"
   ]
  }
 ],
 "metadata": {
  "kernelspec": {
   "display_name": "Python 3 (ipykernel)",
   "language": "python",
   "name": "python3"
  },
  "language_info": {
   "codemirror_mode": {
    "name": "ipython",
    "version": 3
   },
   "file_extension": ".py",
   "mimetype": "text/x-python",
   "name": "python",
   "nbconvert_exporter": "python",
   "pygments_lexer": "ipython3",
   "version": "3.10.9"
  }
 },
 "nbformat": 4,
 "nbformat_minor": 5
}
