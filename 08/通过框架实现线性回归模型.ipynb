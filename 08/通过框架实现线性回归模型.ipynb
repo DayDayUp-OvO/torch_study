{
 "cells": [
  {
   "cell_type": "code",
   "execution_count": 1,
   "id": "a01921b7",
   "metadata": {},
   "outputs": [],
   "source": [
    "import numpy as np\n",
    "import torch\n",
    "from torch.utils import data\n",
    "from d2l import torch as d2l\n",
    "\n",
    "true_w = torch.tensor([2, -3.4])\n",
    "true_b = 4.2\n",
    "\n",
    "features, labels = d2l.synthetic_data(true_w, true_b, 1000)\n"
   ]
  },
  {
   "cell_type": "code",
   "execution_count": 3,
   "id": "3c410c3f",
   "metadata": {},
   "outputs": [
    {
     "data": {
      "text/plain": [
       "[tensor([[-0.3647,  2.1786],\n",
       "         [-2.1337,  0.0570],\n",
       "         [-1.5732, -0.8179],\n",
       "         [-0.1208,  0.5255],\n",
       "         [-1.1504, -1.0226],\n",
       "         [-0.7141, -0.0996],\n",
       "         [-0.4206,  0.9825],\n",
       "         [-2.1101,  0.9206],\n",
       "         [-0.8417,  0.2841],\n",
       "         [-0.7343, -2.3726]]),\n",
       " tensor([[-3.9312],\n",
       "         [-0.2693],\n",
       "         [ 3.8183],\n",
       "         [ 2.1600],\n",
       "         [ 5.3940],\n",
       "         [ 3.1116],\n",
       "         [ 0.0291],\n",
       "         [-3.1665],\n",
       "         [ 1.5641],\n",
       "         [10.7862]])]"
      ]
     },
     "execution_count": 3,
     "metadata": {},
     "output_type": "execute_result"
    }
   ],
   "source": [
    "def load_array(data_arrays, batch_size, is_train=True):\n",
    "    \"\"\"构造一个Pytorch数据迭代器\"\"\"\n",
    "    dataset = data.TensorDataset(*data_arrays)\n",
    "    return data.DataLoader(dataset, batch_size, shuffle=is_train)\n",
    "\n",
    "batch_size = 10\n",
    "data_iter = load_array((features, labels), batch_size)\n",
    "next(iter(data_iter))"
   ]
  },
  {
   "cell_type": "code",
   "execution_count": 4,
   "id": "a4ead78f",
   "metadata": {},
   "outputs": [],
   "source": [
    "from torch import nn\n",
    "net = nn.Sequential(nn.Linear(2, 1))\n"
   ]
  },
  {
   "cell_type": "code",
   "execution_count": 5,
   "id": "dcf424b2",
   "metadata": {},
   "outputs": [
    {
     "data": {
      "text/plain": [
       "tensor([0.])"
      ]
     },
     "execution_count": 5,
     "metadata": {},
     "output_type": "execute_result"
    }
   ],
   "source": [
    "net[0].weight.data.normal_(0, 0.01)\n",
    "net[0].bias.data.fill_(0)"
   ]
  },
  {
   "cell_type": "code",
   "execution_count": 6,
   "id": "ed6f0a20",
   "metadata": {},
   "outputs": [],
   "source": [
    "loss = nn.MSELoss()"
   ]
  },
  {
   "cell_type": "code",
   "execution_count": 7,
   "id": "ca9fac74",
   "metadata": {},
   "outputs": [],
   "source": [
    "trainer = torch.optim.SGD(net.parameters(), lr=0.03)"
   ]
  },
  {
   "cell_type": "code",
   "execution_count": 8,
   "id": "e6deae7d",
   "metadata": {},
   "outputs": [
    {
     "name": "stdout",
     "output_type": "stream",
     "text": [
      "epoch: 1 loss: 0.000219\n",
      "epoch: 2 loss: 0.000102\n",
      "epoch: 3 loss: 0.000100\n",
      "epoch: 4 loss: 0.000101\n",
      "epoch: 5 loss: 0.000101\n",
      "epoch: 6 loss: 0.000101\n",
      "epoch: 7 loss: 0.000101\n",
      "epoch: 8 loss: 0.000100\n",
      "epoch: 9 loss: 0.000101\n",
      "epoch: 10 loss: 0.000101\n"
     ]
    }
   ],
   "source": [
    "epochs = 10\n",
    "\n",
    "for epoch in range(epochs):\n",
    "    for X, y in data_iter:\n",
    "        l = loss(net(X), y)\n",
    "        trainer.zero_grad()\n",
    "        l.backward()\n",
    "        trainer.step()\n",
    "    l = loss(net(features), labels)\n",
    "    print(f'epoch: {epoch + 1} loss: {l:f}')"
   ]
  },
  {
   "cell_type": "code",
   "execution_count": null,
   "id": "e784ea59",
   "metadata": {},
   "outputs": [],
   "source": []
  },
  {
   "cell_type": "code",
   "execution_count": null,
   "id": "781bd4e5",
   "metadata": {},
   "outputs": [],
   "source": []
  }
 ],
 "metadata": {
  "kernelspec": {
   "display_name": "Python 3 (ipykernel)",
   "language": "python",
   "name": "python3"
  },
  "language_info": {
   "codemirror_mode": {
    "name": "ipython",
    "version": 3
   },
   "file_extension": ".py",
   "mimetype": "text/x-python",
   "name": "python",
   "nbconvert_exporter": "python",
   "pygments_lexer": "ipython3",
   "version": "3.10.9"
  }
 },
 "nbformat": 4,
 "nbformat_minor": 5
}
